{
 "cells": [
  {
   "cell_type": "markdown",
   "metadata": {},
   "source": [
    "## LetsGrowMore\n",
    "## TASK  : Next Word Prediction\n",
    "## By : DHRUPAL KALAL"
   ]
  },
  {
   "cell_type": "code",
   "execution_count": 1,
   "metadata": {
    "id": "S59u4cB8M9uh"
   },
   "outputs": [],
   "source": [
    "import numpy as np\n",
    "import pickle\n",
    "import heapq\n",
    "from nltk.tokenize import RegexpTokenizer\n",
    "from keras.models import Sequential, load_model\n",
    "from keras.layers import LSTM\n",
    "from keras.layers.core import Dense, Activation\n",
    "from tensorflow.keras.optimizers import RMSprop\n",
    "import matplotlib.pyplot as plt"
   ]
  },
  {
   "cell_type": "code",
   "execution_count": 2,
   "metadata": {
    "id": "qBAnoSuyOe48"
   },
   "outputs": [],
   "source": [
    "text = open('/content/data.txt',encoding='UTF-8').read().lower()\n",
    "tr = RegexpTokenizer(r'\\w+')\n",
    "words = tr.tokenize(text)\n",
    "unique_words = np.unique(words)\n",
    "uw_index = dict((c, i) for i, c in enumerate(unique_words))"
   ]
  },
  {
   "cell_type": "code",
   "execution_count": 3,
   "metadata": {
    "colab": {
     "base_uri": "https://localhost:8080/"
    },
    "id": "OhYe3Pt0OiCz",
    "outputId": "858fc5f4-bf12-45da-fba2-25bf076853ca"
   },
   "outputs": [
    {
     "name": "stdout",
     "output_type": "stream",
     "text": [
      "['project', 'gutenberg', 's', 'the', 'adventures'] of\n"
     ]
    }
   ],
   "source": [
    "len_w = 5\n",
    "prev = []\n",
    "nextw = []\n",
    "for i in range(len(words) - len_w):\n",
    "    prev.append(words[i:i + len_w])\n",
    "    nextw.append(words[i + len_w])\n",
    "print(prev[0],nextw[0])"
   ]
  },
  {
   "cell_type": "code",
   "execution_count": 4,
   "metadata": {
    "id": "hMbPmgyROiFd"
   },
   "outputs": [],
   "source": [
    "X = np.zeros((len(prev), len_w, len(unique_words)), dtype=bool)\n",
    "Y = np.zeros((len(nextw), len(unique_words)), dtype=bool)"
   ]
  },
  {
   "cell_type": "code",
   "execution_count": 5,
   "metadata": {
    "id": "C2qhAJczOiHs"
   },
   "outputs": [],
   "source": [
    "for i, each_words in enumerate(prev):\n",
    "    for j, each_word in enumerate(each_words):\n",
    "        X[i, j, uw_index[each_word]] = 1\n",
    "    Y[i, uw_index[nextw[i]]] = 1"
   ]
  },
  {
   "cell_type": "code",
   "execution_count": 6,
   "metadata": {
    "colab": {
     "base_uri": "https://localhost:8080/"
    },
    "id": "2zzBesAPOwNF",
    "outputId": "c5bef4dc-7965-4eda-ab8f-72651135e000"
   },
   "outputs": [
    {
     "name": "stdout",
     "output_type": "stream",
     "text": [
      "[False False False ... False False False]\n"
     ]
    }
   ],
   "source": [
    "print(X[0][1])"
   ]
  },
  {
   "cell_type": "code",
   "execution_count": 7,
   "metadata": {
    "colab": {
     "base_uri": "https://localhost:8080/"
    },
    "id": "-j480TGsOwVT",
    "outputId": "d1c6a219-db34-4689-bb43-4b5d4ca9a631"
   },
   "outputs": [
    {
     "name": "stderr",
     "output_type": "stream",
     "text": [
      "/usr/local/lib/python3.7/dist-packages/keras/optimizer_v2/rmsprop.py:130: UserWarning: The `lr` argument is deprecated, use `learning_rate` instead.\n",
      "  super(RMSprop, self).__init__(name, **kwargs)\n"
     ]
    },
    {
     "name": "stdout",
     "output_type": "stream",
     "text": [
      "Epoch 1/5\n",
      "811/811 [==============================] - 31s 31ms/step - loss: 5.9970 - accuracy: 0.1083 - val_loss: 7.0304 - val_accuracy: 0.1049\n",
      "Epoch 2/5\n",
      "811/811 [==============================] - 24s 29ms/step - loss: 5.7829 - accuracy: 0.1475 - val_loss: 7.9845 - val_accuracy: 0.1011\n",
      "Epoch 3/5\n",
      "811/811 [==============================] - 23s 29ms/step - loss: 5.7377 - accuracy: 0.1777 - val_loss: 8.1386 - val_accuracy: 0.1077\n",
      "Epoch 4/5\n",
      "811/811 [==============================] - 24s 29ms/step - loss: 5.4270 - accuracy: 0.2122 - val_loss: 8.1961 - val_accuracy: 0.1062\n",
      "Epoch 5/5\n",
      "811/811 [==============================] - 24s 29ms/step - loss: 5.1087 - accuracy: 0.2513 - val_loss: 8.4360 - val_accuracy: 0.0948\n"
     ]
    }
   ],
   "source": [
    "model = Sequential()\n",
    "model.add(LSTM(128, input_shape=(len_w, len(unique_words))))\n",
    "model.add(Dense(len(unique_words)))\n",
    "model.add(Activation('softmax'))\n",
    "optimizer = RMSprop(lr=0.01)\n",
    "model.compile(loss='categorical_crossentropy', optimizer=optimizer, metrics=['accuracy'])\n",
    "history = model.fit(X, Y, validation_split=0.05, batch_size=128, epochs=5, shuffle=True).history"
   ]
  },
  {
   "cell_type": "code",
   "execution_count": 8,
   "metadata": {
    "colab": {
     "base_uri": "https://localhost:8080/",
     "height": 296
    },
    "id": "hSx72f3oOwXz",
    "outputId": "432ee6e0-1ec0-4782-b296-1cc9d4f3a339"
   },
   "outputs": [
    {
     "data": {
      "text/plain": [
       "<matplotlib.legend.Legend at 0x7fbff3fa5dd0>"
      ]
     },
     "execution_count": 8,
     "metadata": {},
     "output_type": "execute_result"
    },
    {
     "data": {
      "image/png": "[encoded data removed]",
      "text/plain": [
       "<Figure size 432x288 with 1 Axes>"
      ]
     },
     "metadata": {
      "needs_background": "light"
     },
     "output_type": "display_data"
    }
   ],
   "source": [
    "model.save('word-pred-model.h5')\n",
    "pickle.dump(history, open(\"history.p\", \"wb\"))\n",
    "model = load_model('word-pred-model.h5')\n",
    "history = pickle.load(open(\"history.p\", \"rb\"))\n",
    "\n",
    "plt.plot(history['accuracy'])\n",
    "plt.plot(history['val_accuracy'])\n",
    "plt.ylabel('accuracy')\n",
    "plt.xlabel('epochs')\n",
    "plt.legend(['train', 'test'], loc='lower right')"
   ]
  },
  {
   "cell_type": "code",
   "execution_count": 9,
   "metadata": {
    "id": "nQdvRhZ4RSek"
   },
   "outputs": [],
   "source": [
    "def prepare_input(text):\n",
    "    x = np.zeros((1, len_w, len(unique_words)))\n",
    "    for t, word in enumerate(text.split()):\n",
    "        print(word)\n",
    "        x[0, t, uw_index[word]] = 1\n",
    "    return x\n",
    "\n",
    "def sample(preds, top_n=3):\n",
    "    preds = np.asarray(preds).astype('float64')\n",
    "    preds = np.log(preds)\n",
    "    exp_preds = np.exp(preds)\n",
    "    preds = exp_preds / np.sum(exp_preds)\n",
    "    return heapq.nlargest(top_n, range(len(preds)), preds.take)\n",
    "\n",
    "def predict_completion(text):\n",
    "    original_text = text\n",
    "    generated = text\n",
    "    completion = ''\n",
    "    while True:\n",
    "        x = prepare_input(text)\n",
    "        preds = model.predict(x, verbose=0)[0]\n",
    "        next_index = sample(preds, top_n=1)[0]\n",
    "        next_char = indices_char[next_index]\n",
    "        text = text[1:] + next_char\n",
    "        completion += next_char\n",
    "        if len(original_text + completion) + 2 > len(original_text) and next_char == ' ':\n",
    "            return completion\n",
    "        \n",
    "def predict_word(text, n=3):\n",
    "    x = prepare_input(text)\n",
    "    preds = model.predict(x, verbose=0)[0]\n",
    "    next_indices = sample(preds, n)\n",
    "    return [unique_words[idx] for idx in next_indices]"
   ]
  },
  {
   "cell_type": "code",
   "execution_count": 10,
   "metadata": {
    "colab": {
     "base_uri": "https://localhost:8080/"
    },
    "id": "VTL3ZNIhRSmz",
    "outputId": "51f42b9a-7c7c-43da-9bdc-26977fc8c62b"
   },
   "outputs": [
    {
     "name": "stdout",
     "output_type": "stream",
     "text": [
      "original sentence:  It is not a lack of love, but a lack of friendship that makes unhappy marriages.\n",
      "sequence:  it is not a lack\n",
      "it\n",
      "is\n",
      "not\n",
      "a\n",
      "lack\n",
      "next possible words:  ['to', 'for', 's', 'which', 'but']\n",
      "original sentence:  That which does not kill us makes us stronger.\n",
      "sequence:  that which does not kill\n",
      "that\n",
      "which\n",
      "does\n",
      "not\n",
      "kill\n",
      "next possible words:  ['it', 'the', 'to', 'your', 'he']\n",
      "original sentence:  I'm not upset that you lied to me, I'm upset that from now on I can't believe you.\n",
      "sequence:  i m not upset that\n",
      "i\n",
      "m\n",
      "not\n",
      "upset\n",
      "that\n",
      "next possible words:  ['i', 'the', 'she', 'my', 'it']\n",
      "original sentence:  And those who were seen dancing were thought to be insane by those who could not hear the music.\n",
      "sequence:  and those who were seen\n",
      "and\n",
      "those\n",
      "who\n",
      "were\n",
      "seen\n",
      "next possible words:  ['her', 'by', 'the', 'in', 'all']\n",
      "original sentence:  It is hard enough to remember my opinions, without also remembering my reasons for them!\n",
      "sequence:  it is hard enough to\n",
      "it\n",
      "is\n",
      "hard\n",
      "enough\n",
      "to\n",
      "next possible words:  ['see', 'find', 'do', 'tell', 'come']\n"
     ]
    }
   ],
   "source": [
    "quotes = [\n",
    "    \"It is not a lack of love, but a lack of friendship that makes unhappy marriages.\",\n",
    "    \"That which does not kill us makes us stronger.\",\n",
    "    \"I'm not upset that you lied to me, I'm upset that from now on I can't believe you.\",\n",
    "    \"And those who were seen dancing were thought to be insane by those who could not hear the music.\",\n",
    "    \"It is hard enough to remember my opinions, without also remembering my reasons for them!\"\n",
    "]\n",
    "\n",
    "for q in quotes:\n",
    "    print(\"original sentence: \",q)\n",
    "    seq = \" \".join(tr.tokenize(q.lower())[0:5])\n",
    "    print(\"sequence: \",seq)\n",
    "    print(\"next possible words: \", predict_word(seq, 5))"
   ]
  }
 ],
 "metadata": {
  "accelerator": "GPU",
  "colab": {
   "collapsed_sections": [],
   "name": "nextword.ipynb",
   "provenance": []
  },
  "kernelspec": {
   "display_name": "Python 3",
   "language": "python",
   "name": "python3"
  },
  "language_info": {
   "codemirror_mode": {
    "name": "ipython",
    "version": 3
   },
   "file_extension": ".py",
   "mimetype": "text/x-python",
   "name": "python",
   "nbconvert_exporter": "python",
   "pygments_lexer": "ipython3",
   "version": "3.8.3"
  }
 },
 "nbformat": 4,
 "nbformat_minor": 1
}
